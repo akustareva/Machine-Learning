{
 "cells": [
  {
   "cell_type": "code",
   "execution_count": 1,
   "metadata": {
    "collapsed": false
   },
   "outputs": [],
   "source": [
    "from collections import defaultdict\n",
    "from HW3Utils import *\n",
    "from math import log"
   ]
  },
  {
   "cell_type": "code",
   "execution_count": 2,
   "metadata": {
    "collapsed": false
   },
   "outputs": [],
   "source": [
    "def train(messages):\n",
    "    classes_count = defaultdict(lambda:0)\n",
    "    words_count = defaultdict(lambda:0)\n",
    "\n",
    "    total_words = 0\n",
    "    for message in messages:\n",
    "        label = 0 if message.isSpam() else 1\n",
    "        classes_count[label] += len(message.getAllWords())\n",
    "        total_words += len(message.getAllWords())\n",
    "        for word in message.getAllWords():\n",
    "            words_count[label, word] += 1\n",
    "    for c, word in words_count:\n",
    "        words_count[c, word] /= ((0 if words_count.get((0, word)) is None else words_count.get((0, word))) + \\\n",
    "                                 (0 if words_count.get((1, word)) is None else words_count.get((1, word))))\n",
    "    for c in classes_count:\n",
    "        classes_count[c] /= total_words\n",
    "    return classes_count, words_count"
   ]
  },
  {
   "cell_type": "code",
   "execution_count": 7,
   "metadata": {
    "collapsed": true
   },
   "outputs": [],
   "source": [
    "def classify(probabilities, message):\n",
    "    classes_count, words_count = probabilities\n",
    "    result = [0] * len(classes_count)\n",
    "    for i in range(len(classes_count)):\n",
    "        result[i] = log(classes_count[i])\n",
    "        for word in message.getAllWords():\n",
    "            if words_count[i, word] != 0:\n",
    "                result[i] += log(words_count[i, word])\n",
    "    return 0 if log(result[0] / result[1]) > 0 else 1  # for fn minimalization 0.5 is ok"
   ]
  },
  {
   "cell_type": "code",
   "execution_count": 8,
   "metadata": {
    "collapsed": false
   },
   "outputs": [
    {
     "name": "stdout",
     "output_type": "stream",
     "text": [
      "0.7328244274809159 0\n",
      "0.6808510638297872 0\n",
      "0.7328244274809159 0\n",
      "0.6906474820143885 0\n",
      "0.7111111111111111 0\n",
      "0.7022900763358779 2\n",
      "0.7230769230769231 1\n",
      "0.7328244274809159 0\n",
      "0.7441860465116279 0\n",
      "0.696969696969697 2\n",
      "Average: 0.7147605682292161\n"
     ]
    }
   ],
   "source": [
    "messages = getData()\n",
    "\n",
    "averageAccuracy = 0\n",
    "for i in range(10):\n",
    "    train_messages = []\n",
    "    test_messages = []\n",
    "    for message in messages:\n",
    "        if message.getFold() == i:\n",
    "            test_messages.append(message)\n",
    "        else:\n",
    "            train_messages.append(message)\n",
    "    probabilities = train(train_messages)\n",
    "    answ = []\n",
    "    for message in test_messages:\n",
    "        answ.append(classify(probabilities, message))\n",
    "    accuracy, fn = f1_score(answ, [msg.isSpam() for msg in test_messages])\n",
    "    averageAccuracy += accuracy\n",
    "    print(accuracy, fn)\n",
    "    \n",
    "averageAccuracy /= 10\n",
    "print('Average:', averageAccuracy)"
   ]
  },
  {
   "cell_type": "code",
   "execution_count": null,
   "metadata": {
    "collapsed": true
   },
   "outputs": [],
   "source": []
  }
 ],
 "metadata": {
  "anaconda-cloud": {},
  "kernelspec": {
   "display_name": "Python [default]",
   "language": "python",
   "name": "python3"
  },
  "language_info": {
   "codemirror_mode": {
    "name": "ipython",
    "version": 3
   },
   "file_extension": ".py",
   "mimetype": "text/x-python",
   "name": "python",
   "nbconvert_exporter": "python",
   "pygments_lexer": "ipython3",
   "version": "3.5.2"
  }
 },
 "nbformat": 4,
 "nbformat_minor": 1
}
