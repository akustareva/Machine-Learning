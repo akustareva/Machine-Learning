{
 "cells": [
  {
   "cell_type": "code",
   "execution_count": 1,
   "metadata": {
    "collapsed": false
   },
   "outputs": [],
   "source": [
    "from collections import defaultdict\n",
    "from HW3Utils import *\n",
    "from math import log\n",
    "\n",
    "import numpy as np\n",
    "import matplotlib.pyplot as plt"
   ]
  },
  {
   "cell_type": "code",
   "execution_count": 2,
   "metadata": {
    "collapsed": false
   },
   "outputs": [],
   "source": [
    "def train(messages):\n",
    "    classes_count = defaultdict(lambda:0)\n",
    "    words_count = defaultdict(lambda:0)\n",
    "\n",
    "    total_words = 0\n",
    "    for message in messages:\n",
    "        label = 0 if message.isSpam() else 1\n",
    "        classes_count[label] += len(message.getAllWords())\n",
    "        total_words += len(message.getAllWords())\n",
    "        for word in message.getAllWords():\n",
    "            words_count[label, word] += 1\n",
    "    for c, word in words_count:\n",
    "        words_count[c, word] /= ((0 if words_count.get((0, word)) is None else words_count.get((0, word))) + \\\n",
    "                                 (0 if words_count.get((1, word)) is None else words_count.get((1, word))))\n",
    "    for c in classes_count:\n",
    "        classes_count[c] /= total_words\n",
    "    return classes_count, words_count"
   ]
  },
  {
   "cell_type": "code",
   "execution_count": 3,
   "metadata": {
    "collapsed": true
   },
   "outputs": [],
   "source": [
    "def classify(probabilities, message, trust_level = 0):\n",
    "    classes_count, words_count = probabilities\n",
    "    result = [0] * len(classes_count)\n",
    "    for i in range(len(classes_count)):\n",
    "        result[i] = log(classes_count[i])\n",
    "        for word in message.getAllWords():\n",
    "            if words_count[i, word] != 0:\n",
    "                result[i] += log(words_count[i, word])\n",
    "    return 0 if log(result[0] / result[1]) > trust_level else 1  # for fn minimalization trust_level = 0.5 is ok"
   ]
  },
  {
   "cell_type": "code",
   "execution_count": 4,
   "metadata": {
    "collapsed": false
   },
   "outputs": [
    {
     "name": "stdout",
     "output_type": "stream",
     "text": [
      "Trust level: -1.1\n",
      "Average: 0.32333498670434374\n",
      "Trust level: -0.9\n",
      "Average: 0.5361174468191645\n",
      "Trust level: -0.7\n",
      "Average: 0.7062593333666762\n",
      "Trust level: -0.5\n",
      "Average: 0.819392588408558\n",
      "Trust level: -0.3\n",
      "Average: 0.8863169078175709\n",
      "Trust level: -0.1\n",
      "Average: 0.8883637080594763\n",
      "Trust level: 0.1\n",
      "Average: 0.865747143393676\n",
      "Trust level: 0.3\n",
      "Average: 0.8256763945531083\n",
      "Trust level: 0.5\n",
      "Average: 0.8014300026694097\n",
      "Trust level: 0.7\n",
      "Average: 0.759909094315215\n",
      "Trust level: 0.9\n",
      "Average: 0.7317665267212461\n"
     ]
    }
   ],
   "source": [
    "messages = getData()\n",
    "\n",
    "averageAccuracy = 0\n",
    "x = []\n",
    "y = []\n",
    "for trust_level in np.arange(-1.1, 1.1, 0.2):\n",
    "    print('Trust level:', trust_level)\n",
    "    x_average = 0\n",
    "    y_average = 0\n",
    "    for i in range(10):\n",
    "        train_messages = []\n",
    "        test_messages = []\n",
    "        for message in messages:\n",
    "            if message.getFold() == i:\n",
    "                test_messages.append(message)\n",
    "            else:\n",
    "                train_messages.append(message)\n",
    "        probabilities = train(train_messages)\n",
    "        answ = []\n",
    "        for message in test_messages:\n",
    "            answ.append(classify(probabilities, message, trust_level))\n",
    "        accuracy, tp, tn, fp, fn = f1_score(answ, [msg.isSpam() for msg in test_messages])\n",
    "        x_average += fp / (fp + tn)\n",
    "        y_average += tp / (tp + fn)\n",
    "        averageAccuracy += accuracy\n",
    "#         print(accuracy) #, fn\n",
    "    averageAccuracy /= 10\n",
    "    x.append(x_average / 10)\n",
    "    y.append(y_average / 10)\n",
    "    print('Average:', averageAccuracy)"
   ]
  },
  {
   "cell_type": "code",
   "execution_count": 5,
   "metadata": {
    "collapsed": false
   },
   "outputs": [
    {
     "data": {
      "image/png": "[encoded data removed]",
      "text/plain": [
       "<matplotlib.figure.Figure at 0xc914e37e80>"
      ]
     },
     "metadata": {},
     "output_type": "display_data"
    }
   ],
   "source": [
    "fig, ax = plt.subplots()\n",
    "\n",
    "ax.plot(x, y, label=r\"ROC-curve\")\n",
    "ax.set_xlabel(r'FPR', fontsize=14)\n",
    "ax.set_ylabel(r'TPR', fontsize=14)\n",
    "ax.set_title('ROC')\n",
    "ax.legend(loc=2)\n",
    "\n",
    "plt.show()"
   ]
  }
 ],
 "metadata": {
  "anaconda-cloud": {},
  "kernelspec": {
   "display_name": "Python [default]",
   "language": "python",
   "name": "python3"
  },
  "language_info": {
   "codemirror_mode": {
    "name": "ipython",
    "version": 3
   },
   "file_extension": ".py",
   "mimetype": "text/x-python",
   "name": "python",
   "nbconvert_exporter": "python",
   "pygments_lexer": "ipython3",
   "version": "3.5.2"
  }
 },
 "nbformat": 4,
 "nbformat_minor": 1
}
